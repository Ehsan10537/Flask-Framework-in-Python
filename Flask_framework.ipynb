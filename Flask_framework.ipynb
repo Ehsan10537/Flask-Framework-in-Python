{
 "cells": [
  {
   "cell_type": "markdown",
   "id": "4f081767-de28-4254-8a5e-b8789aa8ee06",
   "metadata": {},
   "source": [
    "### Flask Framework\n",
    "It’s a lightweight and popular web framework for Python that allows you to build web applications quickly and easily.\n",
    "\n",
    "### What is WSGI?\n",
    "WSGI stands for Web Server Gateway Interface, and it is a specification that acts as a bridge between a web server and your web application.\n",
    "\n",
    "#### Why is WSGI needed?\n",
    "* Web browsers make requests (e.g., when you open a webpage), and web servers (like Nginx or Apache) receive these requests. \n",
    "* The web server doesn't know how to run Python applications directly, so it uses WSGI to communicate with your Python application.\n",
    "\n",
    "#### How WSGI works in Flask?\n",
    "Flask includes a built-in WSGI server called Werkzeug for development purposes.\n",
    "When a request comes in:\n",
    "1) The web server hands over the request details to WSGI.\n",
    "2) WSGI passes these details to your Flask application.\n",
    "3) Your Flask app processes the request and sends a response (like an HTML page) back to WSGI.\n",
    "4) WSGI gives the response back to the web server, which then delivers it to the user's browser.\n",
    "\n",
    "Think of WSGI as a translator ensuring that the web server and your Python code understand each other."
   ]
  },
  {
   "cell_type": "code",
   "execution_count": null,
   "id": "5ad9afdf-d69f-4005-8c50-0cbbe5a2239f",
   "metadata": {},
   "outputs": [],
   "source": []
  }
 ],
 "metadata": {
  "kernelspec": {
   "display_name": "Python 3 (ipykernel)",
   "language": "python",
   "name": "python3"
  },
  "language_info": {
   "codemirror_mode": {
    "name": "ipython",
    "version": 3
   },
   "file_extension": ".py",
   "mimetype": "text/x-python",
   "name": "python",
   "nbconvert_exporter": "python",
   "pygments_lexer": "ipython3",
   "version": "3.8.10"
  }
 },
 "nbformat": 4,
 "nbformat_minor": 5
}
